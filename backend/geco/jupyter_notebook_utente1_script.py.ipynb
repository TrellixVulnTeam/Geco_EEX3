{ "cell_type": "code","execution_count": 0,"metadata": {},"outputs": [],"source": [import pandas as pd
DS_1 = pd.read_csv("DS_1.csv")
]},{ "cell_type": "code","execution_count": 0,"metadata": {},"outputs": [],"source": [import pandas as pd
DS_1 = pd.read_csv("DS_1.csv")
]},{ "cell_type": "code","execution_count": 0,"metadata": {},"outputs": [],"source": [import pandas as pd
DS_1 = pd.read_csv("DS_1.csv")
]},{ "cell_type": "code","execution_count": 0,"metadata": {},"outputs": [],"source": [import pandas as pd
DS_1 = pd.read_csv("DS_1.csv")
]},{ "cell_type": "code","execution_count": 0,"metadata": {},"outputs": [],"source": [import pandas as pd
DS_1 = pd.read_csv("DS_1.csv")
]},{ "cell_type": "code","execution_count": 0,"metadata": {},"outputs": [],"source": [import pandas as pd
DS_1 = pd.read_csv("DS_1.csv")
]},{ "cell_type": "code","execution_count": 0,"metadata": {},"outputs": [],"source": [import pandas as pd
DS_1 = pd.read_csv("DS_1.csv")
]},{ "cell_type": "code","execution_count": 0,"metadata": {},"outputs": [],"source": [import pandas as pd
DS_1 = pd.read_csv("DS_1.csv")
]},{ "cell_type": "code","execution_count": 0,"metadata": {},"outputs": [],"source": [import pandas as pd
DS_1 = pd.read_csv("DS_1.csv")
]},{ "cell_type": "code","execution_count": 0,"metadata": {},"outputs": [],"source": [import pandas as pd
DS_1 = pd.read_csv("DS_1.csv")
]},{ "cell_type": "code","execution_count": 0,"metadata": {},"outputs": [],"source": [import pandas as pd
DS_1 = pd.read_csv("DS_1.csv")
]},{ "cell_type": "code","execution_count": 0,"metadata": {},"outputs": [],"source": [import pandas as pd
DS_1 = pd.read_csv("DS_1.csv")
]},{ "cell_type": "code","execution_count": 0,"metadata": {},"outputs": [],"source": [import pandas as pd
DS_1 = pd.read_csv("DS_1.csv")
]},{ "cell_type": "code","execution_count": 0,"metadata": {},"outputs": [],"source": [import pandas as pd
DS_1 = pd.read_csv("DS_1.csv")
]},{ "cell_type": "code","execution_count": 0,"metadata": {},"outputs": [],"source": [import pandas as pd
DS_1 = pd.read_csv("DS_1.csv")
]},{ "cell_type": "code","execution_count": 0,"metadata": {},"outputs": [],"source": [import pandas as pd
DS_1 = pd.read_csv("DS_1.csv")
]},{ "cell_type": "code","execution_count": 0,"metadata": {},"outputs": [],"source": [import pandas as pd
DS_1 = pd.read_csv("DS_1.csv")
]},{ "cell_type": "code","execution_count": 0,"metadata": {},"outputs": [],"source": [import pandas as pd
DS_1 = pd.read_csv("DS_1.csv")
]},{ "cell_type": "code","execution_count": 0,"metadata": {},"outputs": [],"source": [import pandas as pd
DS_1 = pd.read_csv("DS_1.csv")
]},{ "cell_type": "code","execution_count": 0,"metadata": {},"outputs": [],"source": [import pandas as pd
DS_1 = pd.read_csv("DS_1.csv")
]},{ "cell_type": "code","execution_count": 0,"metadata": {},"outputs": [],"source": [import pandas as pd
DS_1 = pd.read_csv("DS_1.csv")
]},{ "cell_type": "code","execution_count": 0,"metadata": {},"outputs": [],"source": [import pandas as pd
DS_1 = pd.read_csv("DS_1.csv")
]},{ "cell_type": "code","execution_count": 0,"metadata": {},"outputs": [],"source": [import pandas as pd
DS_2 = pd.read_csv("DS_2.csv")
]},{ "cell_type": "code","execution_count": 0,"metadata": {},"outputs": [],"source": [import pandas as pd
DS_1 = pd.read_csv("DS_1.csv")
]},{ "cell_type": "code","execution_count": 0,"metadata": {},"outputs": [],"source": [import pandas as pd
DS_2 = pd.read_csv("DS_2.csv")
]},{ "cell_type": "code","execution_count": 0,"metadata": {},"outputs": [],"source": [import pandas as pd
DS_1 = pd.read_csv("DS_1.csv")
]},{ "cell_type": "code","execution_count": 0,"metadata": {},"outputs": [],"source": [import pandas as pd
DS_3 = pd.read_csv("DS_3.csv")
]},{ "cell_type": "code","execution_count": 0,"metadata": {},"outputs": [],"source": [import pandas as pd
DS_1 = pd.read_csv("DS_1.csv")
]},{ "cell_type": "code","execution_count": 0,"metadata": {},"outputs": [],"source": [import pandas as pd
DS_2 = pd.read_csv("DS_2.csv")
]},{ "cell_type": "code","execution_count": 0,"metadata": {},"outputs": [],"source": [import pandas as pd
DS_1 = pd.read_csv("DS_1.csv")
]},{ "cell_type": "code","execution_count": 0,"metadata": {},"outputs": [],"source": [import pandas as pd
DS_2 = pd.read_csv("DS_2.csv")
]},{ "cell_type": "code","execution_count": 0,"metadata": {},"outputs": [],"source": [import pandas as pd
DS_1 = pd.read_csv("DS_1.csv")
]},{ "cell_type": "code","execution_count": 0,"metadata": {},"outputs": [],"source": [import pandas as pd
DS_2 = pd.read_csv("DS_2.csv")
]},{ "cell_type": "code","execution_count": 0,"metadata": {},"outputs": [],"source": [import pandas as pd
DS_1 = pd.read_csv("DS_1.csv")
]},{ "cell_type": "code","execution_count": 0,"metadata": {},"outputs": [],"source": [import pandas as pd
DS_2 = pd.read_csv("DS_2.csv")
]},{ "cell_type": "code","execution_count": 0,"metadata": {},"outputs": [],"source": [import pandas as pd
DS_1 = pd.read_csv("DS_1.csv")
]},{ "cell_type": "code","execution_count": 0,"metadata": {},"outputs": [],"source": [import pandas as pd
DS_1 = pd.read_csv("DS_1.csv")
]},{ "cell_type": "code","execution_count": 0,"metadata": {},"outputs": [],"source": [import pandas as pd
DS_2 = pd.read_csv("DS_2.csv")
]},{ "cell_type": "code","execution_count": 0,"metadata": {},"outputs": [],"source": [import pandas as pd
DS_1 = pd.read_csv("DS_1.csv")
]},{ "cell_type": "code","execution_count": 0,"metadata": {},"outputs": [],"source": [import pandas as pd
DS_1 = pd.read_csv("DS_1.csv")
]},{ "cell_type": "code","execution_count": 0,"metadata": {},"outputs": [],"source": [import pandas as pd
DS_1 = pd.read_csv("DS_1.csv")
]},{ "cell_type": "code","execution_count": 0,"metadata": {},"outputs": [],"source": [import pandas as pd
DS_2 = pd.read_csv("DS_2.csv")
]},{ "cell_type": "code","execution_count": 0,"metadata": {},"outputs": [],"source": [import pandas as pd
DS_1 = pd.read_csv("DS_1.csv")
]},{ "cell_type": "code","execution_count": 0,"metadata": {},"outputs": [],"source": [import pandas as pd
DS_2 = pd.read_csv("DS_2.csv")
]},{ "cell_type": "code","execution_count": 0,"metadata": {},"outputs": [],"source": [import pandas as pd
DS_1 = pd.read_csv("DS_1.csv")
]},{ "cell_type": "code","execution_count": 0,"metadata": {},"outputs": [],"source": [import pandas as pd
DS_1 = pd.read_csv("DS_1.csv")
]},{ "cell_type": "code","execution_count": 0,"metadata": {},"outputs": [],"source": [import pandas as pd
DS_2 = pd.read_csv("DS_2.csv")
]},{ "cell_type": "code","execution_count": 0,"metadata": {},"outputs": [],"source": [import pandas as pd
DS_1 = pd.read_csv("DS_1.csv")
]},{ "cell_type": "code","execution_count": 0,"metadata": {},"outputs": [],"source": [import pandas as pd
DS_1 = pd.read_csv("DS_1.csv")
]},{ "cell_type": "code","execution_count": 0,"metadata": {},"outputs": [],"source": [import pandas as pd
DS_2 = pd.read_csv("DS_2.csv")
]},{ "cell_type": "code","execution_count": 0,"metadata": {},"outputs": [],"source": [import pandas as pd
DS_1 = pd.read_csv("DS_1.csv")
]},{ "cell_type": "code","execution_count": 0,"metadata": {},"outputs": [],"source": [import pandas as pd
DS_2 = pd.read_csv("DS_2.csv")
]},{ "cell_type": "code","execution_count": 0,"metadata": {},"outputs": [],"source": [import pandas as pd
DS_1 = pd.read_csv("DS_1.csv")
]},{ "cell_type": "code","execution_count": 0,"metadata": {},"outputs": [],"source": [import pandas as pd
DS_1 = pd.read_csv("DS_1.csv")
]},{ "cell_type": "code","execution_count": 0,"metadata": {},"outputs": [],"source": [import pandas as pd
DS_2 = pd.read_csv("DS_2.csv")
]},{ "cell_type": "code","execution_count": 0,"metadata": {},"outputs": [],"source": [import pandas as pd
DS_1 = pd.read_csv("DS_1.csv")
]},{ "cell_type": "code","execution_count": 0,"metadata": {},"outputs": [],"source": [import pandas as pd
DS_2 = pd.read_csv("DS_2.csv")
]},{ "cell_type": "code","execution_count": 0,"metadata": {},"outputs": [],"source": [import pandas as pd
DS_1 = pd.read_csv("DS_1.csv")
]},{ "cell_type": "code","execution_count": 0,"metadata": {},"outputs": [],"source": [import pandas as pd
DS_2 = pd.read_csv("DS_2.csv")
]},{ "cell_type": "code","execution_count": 0,"metadata": {},"outputs": [],"source": [import pandas as pd
DS_1 = pd.read_csv("DS_1.csv")
]},{ "cell_type": "code","execution_count": 0,"metadata": {},"outputs": [],"source": [import pandas as pd
DS_2 = pd.read_csv("DS_2.csv")
]},{ "cell_type": "code","execution_count": 0,"metadata": {},"outputs": [],"source": [import pandas as pd
DS_1 = pd.read_csv("DS_1.csv")
]},{ "cell_type": "code","execution_count": 0,"metadata": {},"outputs": [],"source": [import pandas as pd
DS_1 = pd.read_csv("DS_1.csv")
]},{ "cell_type": "code","execution_count": 0,"metadata": {},"outputs": [],"source": [import pandas as pd
DS_1 = pd.read_csv("DS_1.csv")
]},{ "cell_type": "code","execution_count": 0,"metadata": {},"outputs": [],"source": [import pandas as pd
DS_1 = pd.read_csv("DS_1.csv")
]},{ "cell_type": "code","execution_count": 0,"metadata": {},"outputs": [],"source": [import pandas as pd
DS_2 = pd.read_csv("DS_2.csv")
]},{ "cell_type": "code","execution_count": 0,"metadata": {},"outputs": [],"source": [import pandas as pd
giova = pd.read_csv("giova.csv")
]},{ "cell_type": "code","execution_count": 0,"metadata": {},"outputs": [],"source": [import pandas as pd
DS_1 = pd.read_csv("DS_1.csv")
]},{ "cell_type": "code","execution_count": 0,"metadata": {},"outputs": [],"source": [import pandas as pd
DS_1 = pd.read_csv("DS_1.csv")
]},{ "cell_type": "code","execution_count": 0,"metadata": {},"outputs": [],"source": [import pandas as pd
DS_1 = pd.read_csv("DS_1.csv")
]},{ "cell_type": "code","execution_count": 0,"metadata": {},"outputs": [],"source": [import pandas as pd
DS_1 = pd.read_csv("DS_1.csv")
]},{ "cell_type": "code","execution_count": 0,"metadata": {},"outputs": [],"source": [import pandas as pd
DS_1 = pd.read_csv("DS_1.csv")
]},{ "cell_type": "code","execution_count": 0,"metadata": {},"outputs": [],"source": [import pandas as pd
DS_2 = pd.read_csv("DS_2.csv")
]},{ "cell_type": "code","execution_count": 0,"metadata": {},"outputs": [],"source": [import pandas as pd
DS_1 = pd.read_csv("DS_1.csv")
]},{ "cell_type": "code","execution_count": 0,"metadata": {},"outputs": [],"source": [import pandas as pd
DS_1 = pd.read_csv("DS_1.csv")
]},{ "cell_type": "code","execution_count": 0,"metadata": {},"outputs": [],"source": [import pandas as pd
DS_1 = pd.read_csv("DS_1.csv")
]},{ "cell_type": "code","execution_count": 0,"metadata": {},"outputs": [],"source": [import pandas as pd
DS_2 = pd.read_csv("DS_2.csv")
]},{ "cell_type": "code","execution_count": 0,"metadata": {},"outputs": [],"source": [import pandas as pd
DS_1 = pd.read_csv("DS_1.csv")
]},{ "cell_type": "code","execution_count": 0,"metadata": {},"outputs": [],"source": [import pandas as pd
DS_1 = pd.read_csv("DS_1.csv")
]},{ "cell_type": "code","execution_count": 0,"metadata": {},"outputs": [],"source": [import pandas as pd
DS_1 = pd.read_csv("DS_1.csv")
]},{ "cell_type": "code","execution_count": 0,"metadata": {},"outputs": [],"source": [import pandas as pd
DS_2 = pd.read_csv("DS_2.csv")
]},{ "cell_type": "code","execution_count": 0,"metadata": {},"outputs": [],"source": [import pandas as pd
DS_1 = pd.read_csv("DS_1.csv")
]},{ "cell_type": "code","execution_count": 0,"metadata": {},"outputs": [],"source": [import pandas as pd
DS_1 = pd.read_csv("DS_1.csv")
]},{ "cell_type": "code","execution_count": 0,"metadata": {},"outputs": [],"source": [import pandas as pd
DS_1 = pd.read_csv("DS_1.csv")
]},{ "cell_type": "code","execution_count": 0,"metadata": {},"outputs": [],"source": [import pandas as pd
DS_2 = pd.read_csv("DS_2.csv")
]},{ "cell_type": "code","execution_count": 0,"metadata": {},"outputs": [],"source": [import pandas as pd
DS_1 = pd.read_csv("DS_1.csv")
]},{ "cell_type": "code","execution_count": 0,"metadata": {},"outputs": [],"source": [import pandas as pd
DS_1 = pd.read_csv("DS_1.csv")
]},{ "cell_type": "code","execution_count": 0,"metadata": {},"outputs": [],"source": [import pandas as pd
DS_1 = pd.read_csv("DS_1.csv")
]},{ "cell_type": "code","execution_count": 0,"metadata": {},"outputs": [],"source": [import pandas as pd
DS_2 = pd.read_csv("DS_2.csv")
]},{ "cell_type": "code","execution_count": 0,"metadata": {},"outputs": [],"source": [import pandas as pd
DS_1 = pd.read_csv("DS_1.csv")
]},{ "cell_type": "code","execution_count": 0,"metadata": {},"outputs": [],"source": [import pandas as pd
DS_1 = pd.read_csv("DS_1.csv")
]},{ "cell_type": "code","execution_count": 0,"metadata": {},"outputs": [],"source": [import pandas as pd
DS_1 = pd.read_csv("DS_1.csv")
]},{ "cell_type": "code","execution_count": 0,"metadata": {},"outputs": [],"source": [import pandas as pd
DS_2 = pd.read_csv("DS_2.csv")
]},{ "cell_type": "code","execution_count": 0,"metadata": {},"outputs": [],"source": [import pandas as pd
DS_1 = pd.read_csv("DS_1.csv")
]},{ "cell_type": "code","execution_count": 0,"metadata": {},"outputs": [],"source": [import pandas as pd
DS_1 = pd.read_csv("DS_1.csv")
]},{ "cell_type": "code","execution_count": 0,"metadata": {},"outputs": [],"source": [import pandas as pd
DS_1 = pd.read_csv("DS_1.csv")
]},{ "cell_type": "code","execution_count": 0,"metadata": {},"outputs": [],"source": [import pandas as pd
DS_1 = pd.read_csv("DS_1.csv")
]},{ "cell_type": "code","execution_count": 0,"metadata": {},"outputs": [],"source": [import pandas as pd
DS_2 = pd.read_csv("DS_2.csv")
]},{ "cell_type": "code","execution_count": 0,"metadata": {},"outputs": [],"source": [import pandas as pd
DS_1 = pd.read_csv("DS_1.csv")
]},{ "cell_type": "code","execution_count": 0,"metadata": {},"outputs": [],"source": [import pandas as pd
DS_1 = pd.read_csv("DS_1.csv")
]},{ "cell_type": "code","execution_count": 0,"metadata": {},"outputs": [],"source": [import pandas as pd
DS_1 = pd.read_csv("DS_1.csv")
]},{ "cell_type": "code","execution_count": 0,"metadata": {},"outputs": [],"source": [import pandas as pd
DS_1 = pd.read_csv("DS_1.csv")
]},{ "cell_type": "code","execution_count": 0,"metadata": {},"outputs": [],"source": [import pandas as pd
DS_1 = pd.read_csv("DS_1.csv")
]},{ "cell_type": "code","execution_count": 0,"metadata": {},"outputs": [],"source": [import pandas as pd
DS_2 = pd.read_csv("DS_2.csv")
]},{ "cell_type": "code","execution_count": 0,"metadata": {},"outputs": [],"source": [import pandas as pd
DS_1 = pd.read_csv("DS_1.csv")
]},{ "cell_type": "code","execution_count": 0,"metadata": {},"outputs": [],"source": [import pandas as pd
DS_1 = pd.read_csv("DS_1.csv")
]},{ "cell_type": "code","execution_count": 0,"metadata": {},"outputs": [],"source": [import pandas as pd
DS_1 = pd.read_csv("DS_1.csv")
]},{ "cell_type": "code","execution_count": 0,"metadata": {},"outputs": [],"source": [import pandas as pd
DS_1 = pd.read_csv("DS_1.csv")
]},{ "cell_type": "code","execution_count": 0,"metadata": {},"outputs": [],"source": [import pandas as pd
DS_1 = pd.read_csv("DS_1.csv")
]},{ "cell_type": "code","execution_count": 0,"metadata": {},"outputs": [],"source": [import pandas as pd
DS_1 = pd.read_csv("DS_1.csv")
]},{ "cell_type": "code","execution_count": 0,"metadata": {},"outputs": [],"source": [import pandas as pd
DS_2 = pd.read_csv("DS_2.csv")
]},{ "cell_type": "code","execution_count": 0,"metadata": {},"outputs": [],"source": [import pandas as pd
DS_1 = pd.read_csv("DS_1.csv")
]},{ "cell_type": "code","execution_count": 0,"metadata": {},"outputs": [],"source": [import pandas as pd
DS_1 = pd.read_csv("DS_1.csv")
]},{ "cell_type": "code","execution_count": 0,"metadata": {},"outputs": [],"source": [import pandas as pd
DS_1 = pd.read_csv("DS_1.csv")
]},{ "cell_type": "code","execution_count": 0,"metadata": {},"outputs": [],"source": [import pandas as pd
DS_1 = pd.read_csv("DS_1.csv")
]},{ "cell_type": "code","execution_count": 0,"metadata": {},"outputs": [],"source": [import pandas as pd
DS_2 = pd.read_csv("DS_2.csv")
]},{ "cell_type": "code","execution_count": 0,"metadata": {},"outputs": [],"source": [import pandas as pd
DS_1 = pd.read_csv("DS_1.csv")
]},{ "cell_type": "code","execution_count": 0,"metadata": {},"outputs": [],"source": [import pandas as pd
DS_1 = pd.read_csv("DS_1.csv")
]},{ "cell_type": "code","execution_count": 0,"metadata": {},"outputs": [],"source": [import pandas as pd
DS_1 = pd.read_csv("DS_1.csv")
]},{ "cell_type": "code","execution_count": 0,"metadata": {},"outputs": [],"source": [import pandas as pd
DS_2 = pd.read_csv("DS_2.csv")
]},