{ "cell_type": "code","execution_count": 0,"metadata": {},"outputs": [],"source": [import pandas as pd
table = pd.read_csv("pivot.csv")]},{ "cell_type": "code","execution_count": 0,"metadata": {},"outputs": [],"source": [import pandas as pd
table = pd.read_csv("pivot.csv")]},{ "cell_type": "code","execution_count": 0,"metadata": {},"outputs": [],"source": [import pandas as pd
table = pd.read_csv("pivot.csv")]},{ "cell_type": "code","execution_count": 0,"metadata": {},"outputs": [],"source": [import pandas as pd
table = pd.read_csv("pivot.csv")]},{ "cell_type": "code","execution_count": 0,"metadata": {},"outputs": [],"source": [import pandas as pd
table = pd.read_csv("pivot.csv")]},{ "cell_type": "code","execution_count": 0,"metadata": {},"outputs": [],"source": [import pandas as pd
table = pd.read_csv("pivot.csv")]},{ "cell_type": "code","execution_count": 0,"metadata": {},"outputs": [],"source": [from sklearn.cluster import KMeans
from sklearn.model_selection import GridSearchCV
from sklearn import *
]},{ "cell_type": "code","execution_count": 0,"metadata": {},"outputs": [],"source": [def silhouette_score(estimator, X):
	clusters = estimator.fit_predict(table.values)
	score = metrics.silhouette_score(table.values, clusters)
	return score

]},{ "cell_type": "code","execution_count": 0,"metadata": {},"outputs": [],"source": [param_grid = {"n_clusters": range(2, 4)}
search = GridSearchCV(KMeans(),param_grid=param_grid,scoring=silhouette_score)
grid = search.fit(table.values)
labels=search.fit_predict(table.values)
]},{ "cell_type": "code","execution_count": 0,"metadata": {},"outputs": [],"source": [from sklearn.decomposition import PCA
]},{ "cell_type": "code","execution_count": 0,"metadata": {},"outputs": [],"source": [pca = PCA({})
pca_data = pca.fit_transform(table.values)
]},{ "cell_type": "code","execution_count": 0,"metadata": {},"outputs": [],"source": [import matplotlib.pyplot as plt
import seaborn as sns
import numpy as np]},{ "cell_type": "code","execution_count": 0,"metadata": {},"outputs": [],"source": [u_labels = np.unique(labels)
for i in u_labels:
	plt.scatter(pca_data[labels == i, 0], pca_data[labels == i, 1], label=i)]
plt.legend()
plt.show()},{ "cell_type": "code","execution_count": 0,"metadata": {},"outputs": [],"source": [import pandas as pd
table = pd.read_csv("pivot.csv")]},{ "cell_type": "code","execution_count": 0,"metadata": {},"outputs": [],"source": [import pandas as pd
table = pd.read_csv("pivot.csv")]},{ "cell_type": "code","execution_count": 0,"metadata": {},"outputs": [],"source": [from sklearn.cluster import KMeans
from sklearn.model_selection import GridSearchCV
from sklearn import *
]},{ "cell_type": "code","execution_count": 0,"metadata": {},"outputs": [],"source": [def silhouette_score(estimator, X):
	clusters = estimator.fit_predict(table.values)
	score = metrics.silhouette_score(table.values, clusters)
	return score

]},{ "cell_type": "code","execution_count": 0,"metadata": {},"outputs": [],"source": [param_grid = {"n_clusters": range(3, 5)}
search = GridSearchCV(KMeans(),param_grid=param_grid,scoring=silhouette_score)
grid = search.fit(table.values)
labels=search.fit_predict(table.values)
]},{ "cell_type": "code","execution_count": 0,"metadata": {},"outputs": [],"source": [from sklearn.decomposition import PCA
]},{ "cell_type": "code","execution_count": 0,"metadata": {},"outputs": [],"source": [pca = PCA({})
pca_data = pca.fit_transform(table.values)
]},{ "cell_type": "code","execution_count": 0,"metadata": {},"outputs": [],"source": [import matplotlib.pyplot as plt
import seaborn as sns
import numpy as np]},{ "cell_type": "code","execution_count": 0,"metadata": {},"outputs": [],"source": [u_labels = np.unique(labels)
for i in u_labels:
	plt.scatter(pca_data[labels == i, 0], pca_data[labels == i, 1], label=i)]
plt.legend()
plt.show()},{ "cell_type": "code","execution_count": 0,"metadata": {},"outputs": [],"source": [import pandas as pd
table = pd.read_csv("pivot.csv")]},{ "cell_type": "code","execution_count": 0,"metadata": {},"outputs": [],"source": [from sklearn.cluster import KMeans
from sklearn.model_selection import GridSearchCV
from sklearn import *
]},{ "cell_type": "code","execution_count": 0,"metadata": {},"outputs": [],"source": [def silhouette_score(estimator, X):
	clusters = estimator.fit_predict(table.values)
	score = metrics.silhouette_score(table.values, clusters)
	return score

]},{ "cell_type": "code","execution_count": 0,"metadata": {},"outputs": [],"source": [param_grid = {"n_clusters": range(3, 5)}
search = GridSearchCV(KMeans(),param_grid=param_grid,scoring=silhouette_score)
grid = search.fit(table.values)
labels=search.fit_predict(table.values)
]},{ "cell_type": "code","execution_count": 0,"metadata": {},"outputs": [],"source": [from sklearn.decomposition import PCA
]},{ "cell_type": "code","execution_count": 0,"metadata": {},"outputs": [],"source": [pca = PCA({})
pca_data = pca.fit_transform(table.values)
]},{ "cell_type": "code","execution_count": 0,"metadata": {},"outputs": [],"source": [import matplotlib.pyplot as plt
import seaborn as sns
import numpy as np]},{ "cell_type": "code","execution_count": 0,"metadata": {},"outputs": [],"source": [u_labels = np.unique(labels)
for i in u_labels:
	plt.scatter(pca_data[labels == i, 0], pca_data[labels == i, 1], label=i)]
plt.legend()
plt.show()},{ "cell_type": "code","execution_count": 0,"metadata": {},"outputs": [],"source": [import pandas as pd
table = pd.read_csv("pivot.csv")]},{ "cell_type": "code","execution_count": 0,"metadata": {},"outputs": [],"source": [import pandas as pd
table = pd.read_csv("pivot.csv")]},{ "cell_type": "code","execution_count": 0,"metadata": {},"outputs": [],"source": [import pandas as pd
table = pd.read_csv("pivot.csv")]},{ "cell_type": "code","execution_count": 0,"metadata": {},"outputs": [],"source": [from sklearn.cluster import KMeans
]},{ "cell_type": "code","execution_count": 0,"metadata": {},"outputs": [],"source": [kmeans = KMeans(n_clusters=4)
kmeans_fit=kmeans.fit(table.values)
labels=kmeans.fit_predict(table.values)]},{ "cell_type": "code","execution_count": 0,"metadata": {},"outputs": [],"source": [from sklearn.decomposition import PCA
]},{ "cell_type": "code","execution_count": 0,"metadata": {},"outputs": [],"source": [pca = PCA({})
pca_data = pca.fit_transform(table.values)
]},{ "cell_type": "code","execution_count": 0,"metadata": {},"outputs": [],"source": [import matplotlib.pyplot as plt
import seaborn as sns
import numpy as np]},{ "cell_type": "code","execution_count": 0,"metadata": {},"outputs": [],"source": [u_labels = np.unique(labels)
for i in u_labels:
	plt.scatter(pca_data[labels == i, 0], pca_data[labels == i, 1], label=i)]
plt.legend()
plt.show()},{ "cell_type": "code","execution_count": 0,"metadata": {},"outputs": [],"source": [import pandas as pd
table = pd.read_csv("pivot.csv")]},{ "cell_type": "code","execution_count": 0,"metadata": {},"outputs": [],"source": [from sklearn.cluster import KMeans
from sklearn.model_selection import GridSearchCV
from sklearn import *
]},{ "cell_type": "code","execution_count": 0,"metadata": {},"outputs": [],"source": [def silhouette_score(estimator, X):
	clusters = estimator.fit_predict(table.values)
	score = metrics.silhouette_score(table.values, clusters)
	return score

]},{ "cell_type": "code","execution_count": 0,"metadata": {},"outputs": [],"source": [param_grid = {"n_clusters": range(3, 5)}
search = GridSearchCV(KMeans(),param_grid=param_grid,scoring=silhouette_score)
grid = search.fit(table.values)
labels=search.fit_predict(table.values)
]},{ "cell_type": "code","execution_count": 0,"metadata": {},"outputs": [],"source": [from sklearn.decomposition import PCA
]},{ "cell_type": "code","execution_count": 0,"metadata": {},"outputs": [],"source": [pca = PCA({})
pca_data = pca.fit_transform(table.values)
]},{ "cell_type": "code","execution_count": 0,"metadata": {},"outputs": [],"source": [import matplotlib.pyplot as plt
import seaborn as sns
import numpy as np]},{ "cell_type": "code","execution_count": 0,"metadata": {},"outputs": [],"source": [u_labels = np.unique(labels)
for i in u_labels:
	plt.scatter(pca_data[labels == i, 0], pca_data[labels == i, 1], label=i)]
plt.legend()
plt.show()},{ "cell_type": "code","execution_count": 0,"metadata": {},"outputs": [],"source": [import pandas as pd
table = pd.read_csv("pivot.csv")]},{ "cell_type": "code","execution_count": 0,"metadata": {},"outputs": [],"source": [from sklearn.cluster import KMeans
from sklearn.model_selection import GridSearchCV
from sklearn import *
]},{ "cell_type": "code","execution_count": 0,"metadata": {},"outputs": [],"source": [def silhouette_score(estimator, X):
	clusters = estimator.fit_predict(table.values)
	score = metrics.silhouette_score(table.values, clusters)
	return score

]},{ "cell_type": "code","execution_count": 0,"metadata": {},"outputs": [],"source": [param_grid = {"n_clusters": range(3, 5)}
search = GridSearchCV(KMeans(),param_grid=param_grid,scoring=silhouette_score)
grid = search.fit(table.values)
labels=search.fit_predict(table.values)
]},{ "cell_type": "code","execution_count": 0,"metadata": {},"outputs": [],"source": [from sklearn.decomposition import PCA
]},{ "cell_type": "code","execution_count": 0,"metadata": {},"outputs": [],"source": [pca = PCA({})
pca_data = pca.fit_transform(table.values)
]},{ "cell_type": "code","execution_count": 0,"metadata": {},"outputs": [],"source": [import matplotlib.pyplot as plt
import seaborn as sns
import numpy as np]},{ "cell_type": "code","execution_count": 0,"metadata": {},"outputs": [],"source": [u_labels = np.unique(labels)
for i in u_labels:
	plt.scatter(pca_data[labels == i, 0], pca_data[labels == i, 1], label=i)]
plt.legend()
plt.show()},